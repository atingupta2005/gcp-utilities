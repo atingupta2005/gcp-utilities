{
 "cells": [
  {
   "cell_type": "code",
   "execution_count": 1,
   "id": "079537ab-1984-4bfa-bf92-09f0fe03a93b",
   "metadata": {},
   "outputs": [],
   "source": [
    "import subprocess\n",
    "import google.auth\n",
    "import json\n",
    "import traceback"
   ]
  },
  {
   "cell_type": "code",
   "execution_count": 2,
   "id": "12515058-5742-4907-982e-fd167362c70b",
   "metadata": {},
   "outputs": [],
   "source": [
    "glb_errors_list = []"
   ]
  },
  {
   "cell_type": "code",
   "execution_count": 3,
   "id": "c56d4318-5315-4db6-b7f6-c72ba6b48766",
   "metadata": {},
   "outputs": [],
   "source": [
    "result = subprocess.run(['gcloud', 'projects', 'list', '--format', 'json', '--quiet' ], shell = True, capture_output=True, text=True, check=True )"
   ]
  },
  {
   "cell_type": "code",
   "execution_count": 4,
   "id": "44e296db-dc26-42a9-951b-f9e37d867133",
   "metadata": {},
   "outputs": [],
   "source": [
    "projects = json.loads(result.stdout)"
   ]
  },
  {
   "cell_type": "code",
   "execution_count": 5,
   "id": "e5bb7da0-0cc2-443f-98ea-ba20dd48cfb1",
   "metadata": {},
   "outputs": [],
   "source": [
    "def delete_compute(project_id):\n",
    "    from google.cloud import compute_v1\n",
    "    from collections import defaultdict\n",
    "\n",
    "    instance_client = compute_v1.InstancesClient()\n",
    "\n",
    "    print(f\"Getting list of all compute instances for project - {project_id}\")\n",
    "\n",
    "    request = compute_v1.AggregatedListInstancesRequest()\n",
    "    request.project = project_id\n",
    "    # Use the `max_results` parameter to limit the number of results that the API returns per response page.\n",
    "    request.max_results = 50\n",
    "\n",
    "    agg_list = instance_client.aggregated_list(request=request)\n",
    "\n",
    "    all_instances = defaultdict(list)\n",
    "\n",
    "    # Despite using the `max_results` parameter, you don't need to handle the pagination\n",
    "    # yourself. The returned `AggregatedListPager` object handles pagination\n",
    "    # automatically, returning separated pages as you iterate over the results.\n",
    "    for zone, response in agg_list:\n",
    "        if response.instances:\n",
    "            all_instances[zone].extend(response.instances)\n",
    "            print(f\" {zone}:\")\n",
    "            for instance in response.instances:\n",
    "                try:\n",
    "                    print(f\" Deleting - {instance.name} ({instance.machine_type})\")\n",
    "                    instance.delete_compute()\n",
    "                    print(f\"Instance deleted- {instance.name}\")\n",
    "                except:\n",
    "                    #print(traceback.format_exc())\n",
    "                    global glb_errors_list\n",
    "                    glb_errors_list.append(f\"{project_id}, instance.name\")\n",
    "                    print(f\"Error: {project_id}:: {instance.name}\")\n",
    "    return all_instances"
   ]
  },
  {
   "cell_type": "code",
   "execution_count": 6,
   "id": "aae3b97a-aef7-49d3-9467-e4fc59e1128f",
   "metadata": {},
   "outputs": [],
   "source": [
    "def delete_gke(PROJECT_ID):\n",
    "    print(f\"Deleting gke for project - {PROJECT_ID}\")\n",
    "    results = subprocess.run(['gcloud', 'container', 'clusters', 'list', '--format', 'json', '--quiet' ], shell = True, capture_output=True, text=True, check=True )\n",
    "    for result in json.loads(results.stdout):\n",
    "        NAME = result.get(\"name\")\n",
    "        ZONE = result.get(\"zone\")\n",
    "\n",
    "        try:\n",
    "            print(f\" Deleting - GKE {NAME}\")\n",
    "            results_disk = subprocess.run(['gcloud', 'container', 'clusters', 'delete', NAME, '--zone', ZONE, '--project', PROJECT_ID, '--quiet' ], shell = True, capture_output=True, text=True, check=True )\n",
    "            print(f\"GKE deleted- {NAME}\")\n",
    "        except:\n",
    "            #print(traceback.format_exc())\n",
    "            global glb_errors_list\n",
    "            glb_errors_list.append(f\"{project_id}, instance.name\")\n",
    "            print(f\"Error: {PROJECT_ID}:: {NAME}\")"
   ]
  },
  {
   "cell_type": "code",
   "execution_count": 7,
   "id": "3491a78b-acd2-41e2-a927-6b1e34d5eec6",
   "metadata": {},
   "outputs": [],
   "source": [
    "def delete_sql_cluster(PROJECT_ID):\n",
    "    print(f\"Deleting SQL Clusters for project - {PROJECT_ID}\")\n",
    "    results = subprocess.run(['gcloud', 'sql', 'instances', 'list', '--format', 'json', '--quiet' ], shell = True, capture_output=True, text=True, check=True )\n",
    "    for result in json.loads(results.stdout):\n",
    "        NAME = result.get(\"name\")\n",
    "\n",
    "        try:\n",
    "            print(f\"Deleting SQL Cluster - {NAME}\")\n",
    "            results_disk = subprocess.run(['gcloud', 'sql', 'instances', 'delete', NAME, '--project', PROJECT_ID, '--quiet' ], shell = True, capture_output=True, text=True, check=True )\n",
    "            print(f\"SQL Cluster deleted- {NAME}\")\n",
    "        except:\n",
    "            #print(traceback.format_exc())\n",
    "            global glb_errors_list\n",
    "            glb_errors_list.append(f\"{project_id}, instance.name\")\n",
    "            print(f\"Error: {PROJECT_ID}:: {NAME}\")"
   ]
  },
  {
   "cell_type": "code",
   "execution_count": 8,
   "id": "e9bb00c1-6239-4c3d-ac39-ae5097fed5e6",
   "metadata": {},
   "outputs": [],
   "source": [
    "def delete_unused_disks(PROJECT_ID):\n",
    "    print(f\"Deleting disks for project - {PROJECT_ID}\")\n",
    "    results = subprocess.run(['gcloud', 'compute', 'disks', 'list', '--format', 'json', '--quiet' ], shell = True, capture_output=True, text=True, check=True )\n",
    "    for result in json.loads(results.stdout):\n",
    "        NAME = result.get(\"name\")\n",
    "        ZONE = result.get(\"zone\")\n",
    "\n",
    "        try:\n",
    "            print(f\" Deleting - Disk {NAME}\")\n",
    "            results_disk = subprocess.run(['gcloud', 'compute', 'disks', 'delete', NAME, '--zone', ZONE, '--project', PROJECT_ID, '--quiet' ], shell = True, capture_output=True, text=True, check=True )\n",
    "            print(f\"disk deleted- {NAME}\")\n",
    "        except:\n",
    "            #print(traceback.format_exc())\n",
    "            global glb_errors_list\n",
    "            glb_errors_list.append(f\"{project_id}, instance.name\")\n",
    "            print(f\"Error: {PROJECT_ID}:: {NAME}\")"
   ]
  },
  {
   "cell_type": "code",
   "execution_count": 9,
   "id": "0fac9117-74fb-4802-9f47-857c3dacd2bc",
   "metadata": {},
   "outputs": [],
   "source": [
    "def delete_buckets(PROJECT_ID):\n",
    "    from google.cloud import storage\n",
    "    \n",
    "    gcs = storage.Client(project = PROJECT_ID)\n",
    "\n",
    "    print(f\"Getting list of all buckets for project - {PROJECT_ID}\")\n",
    "    buckets = gcs.list_buckets()\n",
    "\n",
    "    \n",
    "    for ktr, bucket in enumerate(buckets):\n",
    "        try:\n",
    "            print(f\"{ktr} Deleting Bucket. PROJECT_ID: {PROJECT_ID}, bucket.name: {bucket.name}\")\n",
    "            bucket.delete(force=True)\n",
    "            print(f\"Bucket deleted- {bucket.name}\")\n",
    "        except:\n",
    "            #print(traceback.format_exc())\n",
    "            global glb_errors_list\n",
    "            glb_errors_list.append(f\"{project_id}, instance.name\")\n",
    "            print(f\"Error: {PROJECT_ID}:: {bucket.name}\")"
   ]
  },
  {
   "cell_type": "code",
   "execution_count": 58,
   "id": "938363bc-d9e9-475b-a0e1-7fe200d98438",
   "metadata": {},
   "outputs": [],
   "source": [
    "def delete_iam_users(PROJECT_ID):\n",
    "    import os\n",
    "    \n",
    "    result = subprocess.run(['gcloud', 'config', 'get',  'account'], shell = True, capture_output=True, text=True, check=True )\n",
    "    current_user = result.stdout\n",
    "    current_user = current_user.replace(\"\\n\", \"\")\n",
    "\n",
    "    exception_list = [\"user:\"+current_user, 'user:atingupta2005@gmail.com']\n",
    "\n",
    "    #print(exception_list)\n",
    "\n",
    "    \n",
    "    result = subprocess.run(['gcloud', 'projects', 'get-iam-policy',  PROJECT_ID, '--format', 'json', '--quiet' ], shell = True, capture_output=True, text=True, check=True )\n",
    "\n",
    "    users  = json.loads(result.stdout)['bindings']\n",
    "    #print(users)\n",
    "    for ktr, user in enumerate(users):\n",
    "        try:\n",
    "            #print(f\"{ktr} Delete User. PROJECT_ID: {PROJECT_ID}, user.name: {user.name}\")\n",
    "            #print(f\"User deleted- {user.name}\")\n",
    "            role = user['role']\n",
    "            members = user['members']\n",
    "            #print(f\"role - {role}\")\n",
    "            #print(f\"members - {members}\")\n",
    "            for member in members:\n",
    "                if member not in exception_list:\n",
    "                    if \"user:\" in member:\n",
    "                        print(f\"Removing member {member} having role {role}\")\n",
    "                        lstCommand = ['gcloud', 'projects', 'remove-iam-policy-binding', PROJECT_ID,  f'--member=\"{member}\"', f'--role=\"{role}\"']\n",
    "                        print(\" \".join(lstCommand))\n",
    "                        #result = subprocess.run(lstCommand, shell = True, capture_output=True, text=True, check=True )\n",
    "                        os.system(\" \".join(lstCommand))\n",
    "                        print(f\"Removed member {member} having role {role}\")\n",
    "                        \n",
    "        except:\n",
    "            #print(traceback.format_exc())\n",
    "            global glb_errors_list\n",
    "            glb_errors_list.append(f\"{PROJECT_ID}, user\")\n",
    "            print(f\"Error: {PROJECT_ID}:: {user}\")\n",
    "    "
   ]
  },
  {
   "cell_type": "code",
   "execution_count": 59,
   "id": "774b1b26-e76e-40dc-98fd-72c6c377c8e8",
   "metadata": {},
   "outputs": [
    {
     "name": "stdout",
     "output_type": "stream",
     "text": [
      "Removing member user:kenwayedward2626@gmail.com having role roles/editor\n",
      "gcloud projects remove-iam-policy-binding inlaid-tribute-349409 --member=\"user:kenwayedward2626@gmail.com\" --role=\"roles/editor\"\n",
      "Removed member user:kenwayedward2626@gmail.com having role roles/editor\n",
      "Removing member user:cloudlabatt@gmail.com having role roles/owner\n",
      "gcloud projects remove-iam-policy-binding inlaid-tribute-349409 --member=\"user:cloudlabatt@gmail.com\" --role=\"roles/owner\"\n",
      "Removed member user:cloudlabatt@gmail.com having role roles/owner\n",
      "Removing member user:irfanali540@gmail.com having role roles/owner\n",
      "gcloud projects remove-iam-policy-binding inlaid-tribute-349409 --member=\"user:irfanali540@gmail.com\" --role=\"roles/owner\"\n",
      "Removed member user:irfanali540@gmail.com having role roles/owner\n"
     ]
    }
   ],
   "source": [
    "delete_iam_users(\"inlaid-tribute-349409\")"
   ]
  },
  {
   "cell_type": "code",
   "execution_count": 60,
   "id": "1d2ed873-63f7-4961-916e-fd6fc4d06a55",
   "metadata": {},
   "outputs": [],
   "source": [
    "def delete_resources(PROJECT_ID):\n",
    "    from google.cloud import storage\n",
    "    from google.cloud import bigquery\n",
    "    \n",
    "\n",
    "    delete_iam_users(PROJECT_ID)\n",
    "\n",
    "    #delete_sql_cluster(PROJECT_ID)\n",
    "    #delete_gke(PROJECT_ID)\n",
    "    #delete_buckets(PROJECT_ID)\n",
    "    #delete_compute(PROJECT_ID)\n",
    "    #delete_unused_disks(PROJECT_ID)\n",
    "    "
   ]
  },
  {
   "cell_type": "code",
   "execution_count": null,
   "id": "9d3889ed-39eb-4532-a9e0-f61497ec9af3",
   "metadata": {},
   "outputs": [
    {
     "name": "stdout",
     "output_type": "stream",
     "text": [
      "Working on  GCP-LAB-29\n",
      "Removing member user:varmak59@gmail.com having role roles/owner\n",
      "gcloud projects remove-iam-policy-binding gcp-lab-29 --member=\"user:varmak59@gmail.com\" --role=\"roles/owner\"\n",
      "Removed member user:varmak59@gmail.com having role roles/owner\n",
      "['gcp-lab-16, user', 'gcp-lab-16, user', 'gcp-lab-16, user', 'gcp-lab-16, user', 'gcp-lab-16, user', 'gcp-lab-16, user', 'gcp-lab-16, user', 'gcp-lab-16, user', 'gcp-lab-16, user', 'gcp-lab-16, user', 'gcp-lab-16, user', 'gcp-lab-16, user', 'gcp-lab-16, user', 'gcp-lab-16, user', 'gcp-lab-16, user', 'gcp-lab-16, user', 'gcp-lab-16, user', 'gcp-lab-16, user', 'gcp-lab-16, user', 'gcp-lab-16, user', 'gcp-lab-16, user', 'gcp-lab-16, user', 'gcp-lab-16, user', 'gcp-lab-16, user', 'gcp-lab-16, user', 'gcp-lab-16, user', 'gcp-lab-16, user', 'gcp-lab-16, user', 'gcp-lab-16, user', 'gcp-lab-16, user', 'gcp-lab-16, user', 'gcp-lab-16, user', 'gcp-lab-16, user']\n",
      "Working on  GCP-LAB-28\n",
      "Removing member user:chinmaya.martha@gmail.com having role roles/owner\n",
      "gcloud projects remove-iam-policy-binding gcp-lab-28 --member=\"user:chinmaya.martha@gmail.com\" --role=\"roles/owner\"\n",
      "Removed member user:chinmaya.martha@gmail.com having role roles/owner\n",
      "['gcp-lab-16, user', 'gcp-lab-16, user', 'gcp-lab-16, user', 'gcp-lab-16, user', 'gcp-lab-16, user', 'gcp-lab-16, user', 'gcp-lab-16, user', 'gcp-lab-16, user', 'gcp-lab-16, user', 'gcp-lab-16, user', 'gcp-lab-16, user', 'gcp-lab-16, user', 'gcp-lab-16, user', 'gcp-lab-16, user', 'gcp-lab-16, user', 'gcp-lab-16, user', 'gcp-lab-16, user', 'gcp-lab-16, user', 'gcp-lab-16, user', 'gcp-lab-16, user', 'gcp-lab-16, user', 'gcp-lab-16, user', 'gcp-lab-16, user', 'gcp-lab-16, user', 'gcp-lab-16, user', 'gcp-lab-16, user', 'gcp-lab-16, user', 'gcp-lab-16, user', 'gcp-lab-16, user', 'gcp-lab-16, user', 'gcp-lab-16, user', 'gcp-lab-16, user', 'gcp-lab-16, user']\n",
      "Working on  GCP-LAB-27\n",
      "Removing member user:srinidhis10@gmail.com having role roles/owner\n",
      "gcloud projects remove-iam-policy-binding gcp-lab-27 --member=\"user:srinidhis10@gmail.com\" --role=\"roles/owner\"\n",
      "Removed member user:srinidhis10@gmail.com having role roles/owner\n",
      "['gcp-lab-16, user', 'gcp-lab-16, user', 'gcp-lab-16, user', 'gcp-lab-16, user', 'gcp-lab-16, user', 'gcp-lab-16, user', 'gcp-lab-16, user', 'gcp-lab-16, user', 'gcp-lab-16, user', 'gcp-lab-16, user', 'gcp-lab-16, user', 'gcp-lab-16, user', 'gcp-lab-16, user', 'gcp-lab-16, user', 'gcp-lab-16, user', 'gcp-lab-16, user', 'gcp-lab-16, user', 'gcp-lab-16, user', 'gcp-lab-16, user', 'gcp-lab-16, user', 'gcp-lab-16, user', 'gcp-lab-16, user', 'gcp-lab-16, user', 'gcp-lab-16, user', 'gcp-lab-16, user', 'gcp-lab-16, user', 'gcp-lab-16, user', 'gcp-lab-16, user', 'gcp-lab-16, user', 'gcp-lab-16, user', 'gcp-lab-16, user', 'gcp-lab-16, user', 'gcp-lab-16, user']\n",
      "Working on  GCP-LAB-26\n",
      "Removing member user:abhirupchakraborty2014@gmail.com having role roles/owner\n",
      "gcloud projects remove-iam-policy-binding gcp-lab-26 --member=\"user:abhirupchakraborty2014@gmail.com\" --role=\"roles/owner\"\n",
      "Removed member user:abhirupchakraborty2014@gmail.com having role roles/owner\n",
      "['gcp-lab-16, user', 'gcp-lab-16, user', 'gcp-lab-16, user', 'gcp-lab-16, user', 'gcp-lab-16, user', 'gcp-lab-16, user', 'gcp-lab-16, user', 'gcp-lab-16, user', 'gcp-lab-16, user', 'gcp-lab-16, user', 'gcp-lab-16, user', 'gcp-lab-16, user', 'gcp-lab-16, user', 'gcp-lab-16, user', 'gcp-lab-16, user', 'gcp-lab-16, user', 'gcp-lab-16, user', 'gcp-lab-16, user', 'gcp-lab-16, user', 'gcp-lab-16, user', 'gcp-lab-16, user', 'gcp-lab-16, user', 'gcp-lab-16, user', 'gcp-lab-16, user', 'gcp-lab-16, user', 'gcp-lab-16, user', 'gcp-lab-16, user', 'gcp-lab-16, user', 'gcp-lab-16, user', 'gcp-lab-16, user', 'gcp-lab-16, user', 'gcp-lab-16, user', 'gcp-lab-16, user']\n",
      "Working on  GCP-LAB-23\n",
      "['gcp-lab-16, user', 'gcp-lab-16, user', 'gcp-lab-16, user', 'gcp-lab-16, user', 'gcp-lab-16, user', 'gcp-lab-16, user', 'gcp-lab-16, user', 'gcp-lab-16, user', 'gcp-lab-16, user', 'gcp-lab-16, user', 'gcp-lab-16, user', 'gcp-lab-16, user', 'gcp-lab-16, user', 'gcp-lab-16, user', 'gcp-lab-16, user', 'gcp-lab-16, user', 'gcp-lab-16, user', 'gcp-lab-16, user', 'gcp-lab-16, user', 'gcp-lab-16, user', 'gcp-lab-16, user', 'gcp-lab-16, user', 'gcp-lab-16, user', 'gcp-lab-16, user', 'gcp-lab-16, user', 'gcp-lab-16, user', 'gcp-lab-16, user', 'gcp-lab-16, user', 'gcp-lab-16, user', 'gcp-lab-16, user', 'gcp-lab-16, user', 'gcp-lab-16, user', 'gcp-lab-16, user']\n",
      "Working on  GCP-LAB-22\n",
      "Removing member user:mahe.smart@gmail.com having role roles/resourcemanager.projectOwnerInvitee\n",
      "gcloud projects remove-iam-policy-binding gcp-lab-22-407405 --member=\"user:mahe.smart@gmail.com\" --role=\"roles/resourcemanager.projectOwnerInvitee\"\n",
      "Removed member user:mahe.smart@gmail.com having role roles/resourcemanager.projectOwnerInvitee\n",
      "['gcp-lab-16, user', 'gcp-lab-16, user', 'gcp-lab-16, user', 'gcp-lab-16, user', 'gcp-lab-16, user', 'gcp-lab-16, user', 'gcp-lab-16, user', 'gcp-lab-16, user', 'gcp-lab-16, user', 'gcp-lab-16, user', 'gcp-lab-16, user', 'gcp-lab-16, user', 'gcp-lab-16, user', 'gcp-lab-16, user', 'gcp-lab-16, user', 'gcp-lab-16, user', 'gcp-lab-16, user', 'gcp-lab-16, user', 'gcp-lab-16, user', 'gcp-lab-16, user', 'gcp-lab-16, user', 'gcp-lab-16, user', 'gcp-lab-16, user', 'gcp-lab-16, user', 'gcp-lab-16, user', 'gcp-lab-16, user', 'gcp-lab-16, user', 'gcp-lab-16, user', 'gcp-lab-16, user', 'gcp-lab-16, user', 'gcp-lab-16, user', 'gcp-lab-16, user', 'gcp-lab-16, user']\n",
      "Working on  GCP-LAB-25\n",
      "Removing member user:bandarudeeptej@gmail.com having role roles/owner\n",
      "gcloud projects remove-iam-policy-binding gcp-lab-25 --member=\"user:bandarudeeptej@gmail.com\" --role=\"roles/owner\"\n",
      "Removed member user:bandarudeeptej@gmail.com having role roles/owner\n",
      "Removing member user:cloudlabatt@gmail.com having role roles/owner\n",
      "gcloud projects remove-iam-policy-binding gcp-lab-25 --member=\"user:cloudlabatt@gmail.com\" --role=\"roles/owner\"\n",
      "Removed member user:cloudlabatt@gmail.com having role roles/owner\n",
      "['gcp-lab-16, user', 'gcp-lab-16, user', 'gcp-lab-16, user', 'gcp-lab-16, user', 'gcp-lab-16, user', 'gcp-lab-16, user', 'gcp-lab-16, user', 'gcp-lab-16, user', 'gcp-lab-16, user', 'gcp-lab-16, user', 'gcp-lab-16, user', 'gcp-lab-16, user', 'gcp-lab-16, user', 'gcp-lab-16, user', 'gcp-lab-16, user', 'gcp-lab-16, user', 'gcp-lab-16, user', 'gcp-lab-16, user', 'gcp-lab-16, user', 'gcp-lab-16, user', 'gcp-lab-16, user', 'gcp-lab-16, user', 'gcp-lab-16, user', 'gcp-lab-16, user', 'gcp-lab-16, user', 'gcp-lab-16, user', 'gcp-lab-16, user', 'gcp-lab-16, user', 'gcp-lab-16, user', 'gcp-lab-16, user', 'gcp-lab-16, user', 'gcp-lab-16, user', 'gcp-lab-16, user']\n",
      "Working on  GCP-LAB-24\n",
      "Removing member user:BiswaLitu03@gmail.com having role roles/owner\n",
      "gcloud projects remove-iam-policy-binding gcp-lab-24 --member=\"user:BiswaLitu03@gmail.com\" --role=\"roles/owner\"\n",
      "Removed member user:BiswaLitu03@gmail.com having role roles/owner\n",
      "Removing member user:cloudlabatt@gmail.com having role roles/owner\n",
      "gcloud projects remove-iam-policy-binding gcp-lab-24 --member=\"user:cloudlabatt@gmail.com\" --role=\"roles/owner\"\n",
      "Removed member user:cloudlabatt@gmail.com having role roles/owner\n",
      "['gcp-lab-16, user', 'gcp-lab-16, user', 'gcp-lab-16, user', 'gcp-lab-16, user', 'gcp-lab-16, user', 'gcp-lab-16, user', 'gcp-lab-16, user', 'gcp-lab-16, user', 'gcp-lab-16, user', 'gcp-lab-16, user', 'gcp-lab-16, user', 'gcp-lab-16, user', 'gcp-lab-16, user', 'gcp-lab-16, user', 'gcp-lab-16, user', 'gcp-lab-16, user', 'gcp-lab-16, user', 'gcp-lab-16, user', 'gcp-lab-16, user', 'gcp-lab-16, user', 'gcp-lab-16, user', 'gcp-lab-16, user', 'gcp-lab-16, user', 'gcp-lab-16, user', 'gcp-lab-16, user', 'gcp-lab-16, user', 'gcp-lab-16, user', 'gcp-lab-16, user', 'gcp-lab-16, user', 'gcp-lab-16, user', 'gcp-lab-16, user', 'gcp-lab-16, user', 'gcp-lab-16, user']\n",
      "Working on  GCP-LAB-23\n",
      "Removing member user:cloudlabatt@gmail.com having role roles/owner\n",
      "gcloud projects remove-iam-policy-binding gcp-lab-23 --member=\"user:cloudlabatt@gmail.com\" --role=\"roles/owner\"\n",
      "Removed member user:cloudlabatt@gmail.com having role roles/owner\n",
      "Removing member user:rohan.mudaliar@gmail.com having role roles/owner\n",
      "gcloud projects remove-iam-policy-binding gcp-lab-23 --member=\"user:rohan.mudaliar@gmail.com\" --role=\"roles/owner\"\n",
      "Removed member user:rohan.mudaliar@gmail.com having role roles/owner\n",
      "Removing member user:shrisai.mahendra@gmail.com having role roles/owner\n",
      "gcloud projects remove-iam-policy-binding gcp-lab-23 --member=\"user:shrisai.mahendra@gmail.com\" --role=\"roles/owner\"\n",
      "Removed member user:shrisai.mahendra@gmail.com having role roles/owner\n",
      "['gcp-lab-16, user', 'gcp-lab-16, user', 'gcp-lab-16, user', 'gcp-lab-16, user', 'gcp-lab-16, user', 'gcp-lab-16, user', 'gcp-lab-16, user', 'gcp-lab-16, user', 'gcp-lab-16, user', 'gcp-lab-16, user', 'gcp-lab-16, user', 'gcp-lab-16, user', 'gcp-lab-16, user', 'gcp-lab-16, user', 'gcp-lab-16, user', 'gcp-lab-16, user', 'gcp-lab-16, user', 'gcp-lab-16, user', 'gcp-lab-16, user', 'gcp-lab-16, user', 'gcp-lab-16, user', 'gcp-lab-16, user', 'gcp-lab-16, user', 'gcp-lab-16, user', 'gcp-lab-16, user', 'gcp-lab-16, user', 'gcp-lab-16, user', 'gcp-lab-16, user', 'gcp-lab-16, user', 'gcp-lab-16, user', 'gcp-lab-16, user', 'gcp-lab-16, user', 'gcp-lab-16, user']\n",
      "Working on  GCP-LAB-22\n",
      "Removing member user:abiniya03@gmail.com having role roles/editor\n",
      "gcloud projects remove-iam-policy-binding gcp-lab-22 --member=\"user:abiniya03@gmail.com\" --role=\"roles/editor\"\n",
      "Removed member user:abiniya03@gmail.com having role roles/editor\n",
      "Removing member user:cloudlabatt@gmail.com having role roles/owner\n",
      "gcloud projects remove-iam-policy-binding gcp-lab-22 --member=\"user:cloudlabatt@gmail.com\" --role=\"roles/owner\"\n",
      "Removed member user:cloudlabatt@gmail.com having role roles/owner\n",
      "Removing member user:mahe.smart@gmail.com having role roles/owner\n",
      "gcloud projects remove-iam-policy-binding gcp-lab-22 --member=\"user:mahe.smart@gmail.com\" --role=\"roles/owner\"\n",
      "Removed member user:mahe.smart@gmail.com having role roles/owner\n",
      "['gcp-lab-16, user', 'gcp-lab-16, user', 'gcp-lab-16, user', 'gcp-lab-16, user', 'gcp-lab-16, user', 'gcp-lab-16, user', 'gcp-lab-16, user', 'gcp-lab-16, user', 'gcp-lab-16, user', 'gcp-lab-16, user', 'gcp-lab-16, user', 'gcp-lab-16, user', 'gcp-lab-16, user', 'gcp-lab-16, user', 'gcp-lab-16, user', 'gcp-lab-16, user', 'gcp-lab-16, user', 'gcp-lab-16, user', 'gcp-lab-16, user', 'gcp-lab-16, user', 'gcp-lab-16, user', 'gcp-lab-16, user', 'gcp-lab-16, user', 'gcp-lab-16, user', 'gcp-lab-16, user', 'gcp-lab-16, user', 'gcp-lab-16, user', 'gcp-lab-16, user', 'gcp-lab-16, user', 'gcp-lab-16, user', 'gcp-lab-16, user', 'gcp-lab-16, user', 'gcp-lab-16, user']\n",
      "Working on  GCP-LAB-21\n",
      "Removing member user:chandrimamridha@gmail.com having role roles/editor\n",
      "gcloud projects remove-iam-policy-binding gcp-lab-21 --member=\"user:chandrimamridha@gmail.com\" --role=\"roles/editor\"\n",
      "Removed member user:chandrimamridha@gmail.com having role roles/editor\n",
      "Removing member user:cloudlabatt@gmail.com having role roles/owner\n",
      "gcloud projects remove-iam-policy-binding gcp-lab-21 --member=\"user:cloudlabatt@gmail.com\" --role=\"roles/owner\"\n",
      "Removed member user:cloudlabatt@gmail.com having role roles/owner\n",
      "Removing member user:kpsairam77@gmail.com having role roles/owner\n",
      "gcloud projects remove-iam-policy-binding gcp-lab-21 --member=\"user:kpsairam77@gmail.com\" --role=\"roles/owner\"\n",
      "Removed member user:kpsairam77@gmail.com having role roles/owner\n",
      "['gcp-lab-16, user', 'gcp-lab-16, user', 'gcp-lab-16, user', 'gcp-lab-16, user', 'gcp-lab-16, user', 'gcp-lab-16, user', 'gcp-lab-16, user', 'gcp-lab-16, user', 'gcp-lab-16, user', 'gcp-lab-16, user', 'gcp-lab-16, user', 'gcp-lab-16, user', 'gcp-lab-16, user', 'gcp-lab-16, user', 'gcp-lab-16, user', 'gcp-lab-16, user', 'gcp-lab-16, user', 'gcp-lab-16, user', 'gcp-lab-16, user', 'gcp-lab-16, user', 'gcp-lab-16, user', 'gcp-lab-16, user', 'gcp-lab-16, user', 'gcp-lab-16, user', 'gcp-lab-16, user', 'gcp-lab-16, user', 'gcp-lab-16, user', 'gcp-lab-16, user', 'gcp-lab-16, user', 'gcp-lab-16, user', 'gcp-lab-16, user', 'gcp-lab-16, user', 'gcp-lab-16, user']\n",
      "Working on  GCP-LAB-20\n",
      "Removing member user:navyavankineni@gmail.com having role roles/editor\n",
      "gcloud projects remove-iam-policy-binding gcp-lab-20-398305 --member=\"user:navyavankineni@gmail.com\" --role=\"roles/editor\"\n",
      "Removed member user:navyavankineni@gmail.com having role roles/editor\n",
      "Removing member user:cloudlabatt@gmail.com having role roles/owner\n",
      "gcloud projects remove-iam-policy-binding gcp-lab-20-398305 --member=\"user:cloudlabatt@gmail.com\" --role=\"roles/owner\"\n"
     ]
    }
   ],
   "source": [
    "for  project in projects:\n",
    "    try:\n",
    "        project_id = project.get(\"projectId\")\n",
    "        project_name = project.get(\"name\")\n",
    "        project_no = project.get(\"projectNumber\")\n",
    "        subprocess.run(['gcloud', 'config', 'set', 'project', project_id, ], shell = True )\n",
    "\n",
    "        print (\"Working on \", project_name)\n",
    "        \n",
    "        delete_resources(project_id)\n",
    "        #print(glb_errors_list)\n",
    "    except:\n",
    "        print(traceback.format_exc())"
   ]
  },
  {
   "cell_type": "code",
   "execution_count": 12,
   "id": "1731bf00-364f-49d6-ab6e-43b14bf435ee",
   "metadata": {},
   "outputs": [
    {
     "data": {
      "text/plain": [
       "[]"
      ]
     },
     "execution_count": 12,
     "metadata": {},
     "output_type": "execute_result"
    }
   ],
   "source": [
    "glb_errors_list"
   ]
  },
  {
   "cell_type": "code",
   "execution_count": null,
   "id": "b2851728-1878-47d6-b153-3fdeac998201",
   "metadata": {},
   "outputs": [],
   "source": []
  },
  {
   "cell_type": "code",
   "execution_count": null,
   "id": "f1ab3406-eadb-4d83-8065-ad6fd58babaa",
   "metadata": {},
   "outputs": [],
   "source": []
  }
 ],
 "metadata": {
  "environment": {
   "kernel": "python3",
   "name": "tf2-gpu.2-3.m94",
   "type": "gcloud",
   "uri": "gcr.io/deeplearning-platform-release/tf2-gpu.2-3:m94"
  },
  "kernelspec": {
   "display_name": "Python 3 (ipykernel)",
   "language": "python",
   "name": "python3"
  },
  "language_info": {
   "codemirror_mode": {
    "name": "ipython",
    "version": 3
   },
   "file_extension": ".py",
   "mimetype": "text/x-python",
   "name": "python",
   "nbconvert_exporter": "python",
   "pygments_lexer": "ipython3",
   "version": "3.9.7"
  }
 },
 "nbformat": 4,
 "nbformat_minor": 5
}
